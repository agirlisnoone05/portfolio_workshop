{
 "cells": [
  {
   "cell_type": "markdown",
   "id": "03a545c2-a4cd-4742-a80e-edbad7776c94",
   "metadata": {
    "tags": []
   },
   "source": [
    "## Starting JupyterLab\n",
    "\n"
   ]
  },
  {
   "cell_type": "markdown",
   "id": "0b4bd0e0-60ec-4db7-9f88-63a2147765a2",
   "metadata": {},
   "source": [
    "You can start the JupyterLab server through the command line or through an application called \n",
    "`Anaconda Navigator`. Anaconda Navigator is included as part of the Anaconda Python distribution.\n",
    "\n"
   ]
  },
  {
   "cell_type": "markdown",
   "id": "aa85b232-be6c-4fb0-aaa6-faf3157a21fc",
   "metadata": {
    "tags": []
   },
   "source": [
    "### macOS - Command Line\n"
   ]
  },
  {
   "cell_type": "markdown",
   "id": "e2e871af-8485-48dc-8bc5-4d8c146ff395",
   "metadata": {},
   "source": [
    "To start the JupyterLab server you will need to access the command line through the Terminal. \n",
    "There are two ways to open Terminal on Mac.\n",
    "\n",
    "1. In your Applications folder, open Utilities and double-click on Terminal\n",
    "2. Press <kbd>Command</kbd> + <kbd>spacebar</kbd> to launch Spotlight. Type `Terminal` and then \n",
    "double-click the search result or hit <kbd>Enter</kbd>\n",
    "\n",
    "After you have launched Terminal, type the command to launch the JupyterLab server.\n",
    "\n",
    "~~~ bash\n",
    "$ jupyter lab\n",
    "~~~"
   ]
  },
  {
   "cell_type": "markdown",
   "id": "d14c5f41-0b77-4f4f-9c10-9532b9c85094",
   "metadata": {
    "tags": []
   },
   "source": [
    "### Windows Users - Command Line\n"
   ]
  },
  {
   "cell_type": "markdown",
   "id": "fcb3a5b1-54fc-448c-8319-a6de2f3f0a44",
   "metadata": {},
   "source": [
    "To start the JupyterLab server you will need to access the Anaconda Prompt.\n",
    "\n",
    "Press <kbd>Windows Logo Key</kbd> and search for `Anaconda Prompt`, click the result or press enter.\n",
    "\n",
    "After you have launched the Anaconda Prompt, type the command:\n",
    "\n",
    "~~~ bash\n",
    "$ jupyter lab\n",
    "~~~\n",
    "\n"
   ]
  },
  {
   "cell_type": "markdown",
   "id": "6d9bd68c-234a-4dc0-84da-a4e664809407",
   "metadata": {
    "tags": []
   },
   "source": [
    "### Launching Jupyter Lab from a directory other than home"
   ]
  },
  {
   "cell_type": "markdown",
   "id": "7f4e92da-b147-4b2f-b933-5d17040ed05c",
   "metadata": {},
   "source": [
    "By default, the above command will open Jupyter Lab from your user directory on your computer. If you wish to save or access notebooks from other locations like your Desktop or a specific folder, you will have to navigate to them in Jupyter Lab. "
   ]
  },
  {
   "cell_type": "markdown",
   "id": "6f26efc1-9a2c-4d46-b5a4-619049cea25a",
   "metadata": {},
   "source": [
    "Alternatively, you can navigate to your desired directory from the command line with `cd`, then launch Jupyter Lab.\n",
    "\n",
    "Or if you prefer a single command:\n",
    "\n",
    "~~~ bash\n",
    "$ jupyter lab --notebook-dir=PATH-TO-FOLDER\n",
    "~~~"
   ]
  },
  {
   "cell_type": "markdown",
   "id": "a12adfa3-4959-4b9b-b3fe-5715f7e089a4",
   "metadata": {
    "tags": []
   },
   "source": [
    "### Arranging Documents into Panels of Tabs\n"
   ]
  },
  {
   "cell_type": "markdown",
   "id": "ef474b0c-61e5-4e58-80eb-50e47152e00a",
   "metadata": {},
   "source": [
    "> In the JupyterLab Main Work Area you can arrange documents into panels of tabs. Here is an \n",
    "> example from the [official documentation][jupyterlab].\n",
    "> \n",
    "> <p align='center'>\n",
    ">    <img alt=\"Multi-panel JupyterLab\" src=\"../fig/0_multipanel_jupyterlab_screenshot.png\" width=\"750\"/>\n",
    "> </p>\n",
    ">\n",
    "> First, create a text file, Python console, and terminal window and arrange them into three \n",
    "> panels in the main work area. Next, create a notebook, terminal window, and text file and \n",
    "> arrange them into three panels in the main work area. Finally, create your own combination of \n",
    "> panels and tabs. What combination of panels and tabs do you think will be most useful for your \n",
    "> workflow?\n",
    ">\n",
    "\n",
    "[jupyterlab]: https://jupyterlab.readthedocs.io/en/stable/"
   ]
  },
  {
   "cell_type": "markdown",
   "id": "8deb9b6d-7ab4-49bc-a6a6-0210e7d043dd",
   "metadata": {
    "tags": []
   },
   "source": [
    "# Hot Keys"
   ]
  },
  {
   "cell_type": "markdown",
   "id": "9dc4f2cb-e912-45d9-aaf3-b126c58e610c",
   "metadata": {},
   "source": [
    "There are two modes in Jupyter Notebook: \n",
    "1. **command mode**\n",
    "2. **edit mode**"
   ]
  },
  {
   "cell_type": "markdown",
   "id": "6d8aa960-ccc8-4322-a497-51f778472d3f",
   "metadata": {},
   "source": [
    "To activate the **command mode** (command options), use **<kbd>esc</kbd>** in a highlighted cell. Here are some popular shortcuts to try out:  \n",
    "\n",
    "-  **<kbd>Enter</kbd>** takes you into edit mode\n",
    "-  **<kbd>h</kbd>** shows all shortcuts\n",
    "-  **<kbd>&#8593</kbd>** selects the cell above\n",
    "-  **<kbd>&#8595</kbd>** selects the cell below\n",
    "-  **<kbd>Shift + &#8593</kbd>** extends selected cells above\n",
    "- **<kbd>Shift + &#8595</kbd>** extends selected cells below\n",
    "-  **<kbd>a</kbd>** inserts a cell above the current cell\n",
    "-  **<kbd>b</kbd>** inserts a cell below the current cell\n",
    "-  **<kbd>x</kbd>** cuts selected cells\n",
    "-  **<kbd>c</kbd>** copies selected cells\n",
    "-  **<kbd>v</kbd>** pastes cells below\n",
    "-  **<kbd>Shift + V</kbd>** pastes the cells above\n",
    "-  **<kbd>d, d</kbd>** (press the key twice)deletes selected cells\n",
    "-  **<kbd>z</kbd>** will undo cell deletion\n",
    "-  **<kbd>s</kbd>** saves and checkpoint\n",
    "-  **<kbd>y</kbd>** changes the cell type to Code\n",
    "-  **<kbd>m</kbd>** changes the cell type to Markdown\n",
    "-  **<kbd>p</kbd>** opens the command palette. \n",
    "-  **<kbd>l</kbd>** (lower case L) shows line numbers"
   ]
  },
  {
   "cell_type": "markdown",
   "id": "77f23b44-dc08-429a-8c73-1577374a394f",
   "metadata": {},
   "source": [
    "To activate the **edit mode** (edit options), use **<kbd>enter</kbd>**. Here are some popular shortcuts to try out:\n",
    "\n",
    "-  **<kbd>Esc</kbd>** takes you into command mode\n",
    "-  **<kbd>Tab</kbd>** code completion or indent\n",
    "-  **<kbd>Shift + Tab</kbd>** tooltip\n",
    "-  **<kbd>Ctrl + ]</kbd>** indents\n",
    "-  **<kbd>Ctrl + [</kbd>** dedents\n",
    "-  **<kbd>Ctrl + a</kbd>** selects all\n",
    "-  **<kbd>Ctrl + z</kbd>** will undo\n",
    "-  **<kbd>Ctrl + Shift + Z</kbd>** or <kbd>Ctrl + Y</kbd>** will redo\n",
    "-  **<kbd>Ctrl + Home</kbd>** will go to cell start\n",
    "-  **<kbd>Ctrl + End</kbd>** will go to cell end\n",
    "-  **<kbd>Ctrl + &#8592</kbd>** will go one word left\n",
    "-  **<kbd>Ctrl + &#8594</kbd>** will go one word right\n",
    "-  **<kbd>Ctrl + Shift + P</kbd>** opens the command palette\n",
    "-  **<kbd>&#8595</kbd>** moves cursor down\n",
    "-  **<kbd>&#8593</kbd>** moves cursor up"
   ]
  },
  {
   "cell_type": "markdown",
   "id": "852c57d2-cb48-4d0c-93e9-6a095774aab5",
   "metadata": {},
   "source": [
    "To run an active cell you will use **<kbd>shift + enter</kbd>** (for Windows) and for mac **<kbd>cmd + enter</kbd>**"
   ]
  },
  {
   "cell_type": "markdown",
   "id": "2ce82127-3fac-42b5-9d39-5fae1b234707",
   "metadata": {},
   "source": [
    "Try all this out for yourself! Use the cell below:"
   ]
  },
  {
   "cell_type": "code",
   "execution_count": null,
   "id": "d0945fe8-6ac0-4100-963a-6f3ecea88315",
   "metadata": {},
   "outputs": [],
   "source": [
    "1 + 1"
   ]
  },
  {
   "cell_type": "markdown",
   "id": "ce2c9050-d2fd-4330-803f-b28a3ed74769",
   "metadata": {
    "tags": []
   },
   "source": [
    "### Jupyter Notebooks will print the final statement in a cell "
   ]
  },
  {
   "cell_type": "markdown",
   "id": "23bfa38f-e3d3-4007-a1c7-1de0c35e03c6",
   "metadata": {},
   "source": [
    "If we type basic math into a cell, the result is printed in the output"
   ]
  },
  {
   "cell_type": "code",
   "execution_count": null,
   "id": "6c4d8fa3-16b5-4625-9e7e-c792d99b012a",
   "metadata": {},
   "outputs": [],
   "source": [
    "2 + 3"
   ]
  },
  {
   "cell_type": "markdown",
   "id": "845ae4d4-b1f6-4df6-a933-26b9b2530fc9",
   "metadata": {},
   "source": [
    "What if we type two lines of math into the cell?"
   ]
  },
  {
   "cell_type": "code",
   "execution_count": null,
   "id": "54879db0-5893-4084-8b6b-fb53fe6a2a5e",
   "metadata": {},
   "outputs": [],
   "source": [
    "2 + 3\n",
    "4 - 2"
   ]
  },
  {
   "cell_type": "markdown",
   "id": "dd790b64-28b8-4ee0-ad81-c4d40c50a125",
   "metadata": {},
   "source": [
    "Jupyter prints only the result from the equation on the last line. This also happens if we write a variable name in the last line of the cell:"
   ]
  },
  {
   "cell_type": "code",
   "execution_count": null,
   "id": "a420e4dc-cf85-424c-b528-bc0a7518f6de",
   "metadata": {},
   "outputs": [],
   "source": [
    "last = 5\n",
    "last"
   ]
  },
  {
   "cell_type": "markdown",
   "id": "f73218a5-ee22-4942-a192-43f6faf6a9f0",
   "metadata": {},
   "source": [
    "However, if the last line contains a variable definition, nothing will be printed:"
   ]
  },
  {
   "cell_type": "code",
   "execution_count": null,
   "id": "5f303dcc-3a58-41b3-8873-58b1e54cf981",
   "metadata": {},
   "outputs": [],
   "source": [
    "definition = 5"
   ]
  },
  {
   "cell_type": "markdown",
   "id": "473e5b49-5e0f-4498-a958-8928994a0648",
   "metadata": {},
   "source": [
    "This can come in handy to check that you're getting the correct result after executing all the code in your cell:"
   ]
  },
  {
   "cell_type": "code",
   "execution_count": null,
   "id": "595cf039-0eab-4625-b4a5-0db2f47578f6",
   "metadata": {},
   "outputs": [],
   "source": [
    "something = 7\n",
    "nothing = something - 7\n",
    "nothing"
   ]
  },
  {
   "cell_type": "markdown",
   "id": "699e3b26-ad30-4629-bca9-d16736f1a201",
   "metadata": {
    "tags": []
   },
   "source": [
    "### The Notebook will turn Markdown into pretty-printed documentation.\n",
    "\n"
   ]
  },
  {
   "cell_type": "markdown",
   "id": "94b5e2dd-3764-4e6c-a313-f5133e046cd0",
   "metadata": {},
   "source": [
    "*   Notebooks can also render [Markdown][markdown].\n",
    "    *   A simple plain-text format for writing lists, links, \n",
    "        and other things that might go into a web page.\n",
    "    *   Equivalently, a subset of HTML that looks like what you'd send in an old-fashioned email.\n",
    "*   Turn the current cell into a Markdown cell by entering the Command mode (<kbd>Esc</kbd>/gray) \n",
    "    and press the <kbd>M</kbd> key.\n",
    "*   `In [ ]:` will disappear to show it is no longer a code cell and you will be able to write in \n",
    "    Markdown.\n",
    "*   Turn the current cell into a Code cell by entering the Command mode (<kbd>Esc</kbd>/gray) and \n",
    "    press the <kbd>y</kbd> key.\n",
    "\n",
    "[markdown]: https://en.wikipedia.org/wiki/Markdown"
   ]
  },
  {
   "cell_type": "markdown",
   "id": "ab385b19-3523-4819-8663-94f2b070b626",
   "metadata": {
    "tags": []
   },
   "source": [
    "### Markdown does most of what HTML does.\n",
    "\n"
   ]
  },
  {
   "cell_type": "markdown",
   "id": "fa1bdfa5-f5d1-4e3b-b820-94dec96d602e",
   "metadata": {},
   "source": [
    "Here's a [Cheat Sheet](https://github.com/adam-p/markdown-here/wiki/Markdown-Cheatsheet) for reference,\n",
    "but here are some useful examples (double-click or press <kbd>M</kbd> or <kbd>Enter</kbd> keys to see the Markdown code):"
   ]
  },
  {
   "cell_type": "markdown",
   "id": "09ae6fc4-82db-48c1-a449-94583fbd26e0",
   "metadata": {},
   "source": [
    "#### Creating Lists"
   ]
  },
  {
   "cell_type": "markdown",
   "id": "40b89044-7086-4e3d-a5aa-e715790c5efa",
   "metadata": {},
   "source": [
    "*   Use asterisks\n",
    "*   to create\n",
    "*   bullet lists."
   ]
  },
  {
   "cell_type": "markdown",
   "id": "9a2f2fd4-1f3e-4feb-8614-55a457a39cb7",
   "metadata": {},
   "source": [
    "1.  Use numbers\n",
    "1.  to create\n",
    "1.  numbered lists."
   ]
  },
  {
   "cell_type": "markdown",
   "id": "926a09d4-283c-45b7-840e-a74584bc2646",
   "metadata": {},
   "source": [
    "*  You can use indents\n",
    "\t*  To create sublists\n",
    "\t*  of the same type\n",
    "*  Or sublists\n",
    "\t1. Of different\n",
    "\t1. types"
   ]
  },
  {
   "cell_type": "markdown",
   "id": "a658f939-ad32-47e9-937c-672ff2512f96",
   "metadata": {},
   "source": [
    "#### Making Multi-Level Headings"
   ]
  },
  {
   "cell_type": "markdown",
   "id": "d3010c3f-ad83-4b20-81cb-b9e47d28fa45",
   "metadata": {
    "tags": []
   },
   "source": [
    "# A Level-1 Heading"
   ]
  },
  {
   "cell_type": "markdown",
   "id": "40f212a2-80cc-40fe-9152-ed25a1f632ff",
   "metadata": {},
   "source": [
    "## A Level-2 Heading (etc.)"
   ]
  },
  {
   "cell_type": "markdown",
   "id": "0cf5fc82-3218-4d9e-a06a-4b1a87e1ff9f",
   "metadata": {
    "tags": []
   },
   "source": [
    "### A Level-3 Heading (etc.)"
   ]
  },
  {
   "cell_type": "markdown",
   "id": "baf8767a-d38d-4350-aeb9-a8c94e794a1f",
   "metadata": {},
   "source": [
    "#### Creating Line Breaks"
   ]
  },
  {
   "cell_type": "markdown",
   "id": "ce56b53b-a3ff-4da0-a87e-303e49389314",
   "metadata": {},
   "source": [
    "Line breaks\n",
    "don't matter.\n",
    "\n",
    "But blank lines\n",
    "create new paragraphs."
   ]
  },
  {
   "cell_type": "markdown",
   "id": "d1cd4849-c95f-47c4-9393-4e497bb06156",
   "metadata": {},
   "source": [
    "#### Links"
   ]
  },
  {
   "cell_type": "markdown",
   "id": "29ab1f2e-a3da-48cd-80e7-e7c2cf552c1b",
   "metadata": {},
   "source": [
    "[Create links](http://software-carpentry.org) with `[...](...)`.\n",
    "Or use [named links][data_carpentry].\n",
    "\n",
    "[data_carpentry]: http://datacarpentry.org"
   ]
  },
  {
   "cell_type": "markdown",
   "id": "0d29f7f8-bd30-4eb5-be4e-f3c75cab2f1a",
   "metadata": {},
   "source": [
    "#### Equations"
   ]
  },
  {
   "cell_type": "markdown",
   "id": "99150b11-ea2d-4b45-957d-d4a46556267a",
   "metadata": {},
   "source": [
    "Standard Markdown (such as we're using for these notes) won't render equations,\n",
    "but the Notebook will. \n",
    "You can type LaTeX syntax into a Markdown cell:"
   ]
  },
  {
   "cell_type": "markdown",
   "id": "823d588c-19f7-4703-80b7-d1ab60d9197b",
   "metadata": {},
   "source": [
    "$\\sum_{i=1}^{N} 2^{-i} \\approx 1$"
   ]
  },
  {
   "cell_type": "markdown",
   "id": "27dab98c-4390-4adb-8572-22b114e8e085",
   "metadata": {},
   "source": [
    "#### Tables"
   ]
  },
  {
   "cell_type": "markdown",
   "id": "d949357b-1609-42b0-aa7d-18ee09f4a3a6",
   "metadata": {},
   "source": [
    "Names|Fruit|Years|Days\n",
    "---|---|---|---\n",
    "Joseph|Apple|1995|Monday\n",
    "Aaron|Strawberry|2011|Thursday"
   ]
  },
  {
   "cell_type": "markdown",
   "id": "83987e42-f04a-4774-a163-76ee985de840",
   "metadata": {},
   "source": [
    "#### Code Blocks"
   ]
  },
  {
   "cell_type": "markdown",
   "id": "673a6a34-f29a-4dd2-96a3-004296ec4611",
   "metadata": {},
   "source": [
    "~~~ python\n",
    "t = 100\n",
    "for i in range(t):\n",
    "    print(i)\n",
    "~~~"
   ]
  },
  {
   "cell_type": "markdown",
   "id": "9aa3998c-4c09-41c3-8138-ba8fec5b856a",
   "metadata": {},
   "source": [
    "#### Write your own HTML"
   ]
  },
  {
   "cell_type": "markdown",
   "id": "0b3f75e6-95a5-4efd-9d3b-0fbf0c96ec78",
   "metadata": {
    "tags": []
   },
   "source": [
    "<html>\n",
    "  <head>\n",
    "    <title>My Website</title>\n",
    "  </head>\n",
    "  <body>\n",
    "    <h1>Welcome to my website!</h1>\n",
    "    <p>This is a sample HTML webpage.</p>\n",
    "    <ul>\n",
    "      <li>Item 1</li>\n",
    "      <li>Item 2</li>\n",
    "      <li>Item 3</li>\n",
    "    </ul>\n",
    "  </body>\n",
    "</html>"
   ]
  },
  {
   "cell_type": "markdown",
   "id": "9c53758c-5330-4e13-8c3e-4e9ba4816ccc",
   "metadata": {},
   "source": [
    "## Magic Commands"
   ]
  },
  {
   "cell_type": "markdown",
   "id": "e6d7702d-b2e8-499a-9266-526455db813c",
   "metadata": {},
   "source": [
    "Commands that let you interact with your notebook in different ways."
   ]
  },
  {
   "cell_type": "markdown",
   "id": "9a1b0c29-9d8f-4d78-a3c0-c0527127f9be",
   "metadata": {},
   "source": [
    "Print a list of your command history during your session:"
   ]
  },
  {
   "cell_type": "code",
   "execution_count": null,
   "id": "dee4722b-5aa9-45fb-9d3c-08f2e35f32c1",
   "metadata": {
    "tags": []
   },
   "outputs": [],
   "source": [
    "%hist"
   ]
  },
  {
   "cell_type": "markdown",
   "id": "b0fa3479-a2c8-4f4d-8fb9-82226d5f2e70",
   "metadata": {},
   "source": [
    "Print a list of all defined variables:"
   ]
  },
  {
   "cell_type": "code",
   "execution_count": null,
   "id": "41a38929-f0fa-4890-add1-f3cfcdf5a32c",
   "metadata": {},
   "outputs": [],
   "source": [
    "%who"
   ]
  },
  {
   "cell_type": "markdown",
   "id": "f9a3135e-f220-49c1-be17-044946463e54",
   "metadata": {},
   "source": [
    "Print variables with other relevant info:"
   ]
  },
  {
   "cell_type": "code",
   "execution_count": null,
   "id": "56da3157-a37f-41d5-9982-98fab4ee18fb",
   "metadata": {},
   "outputs": [],
   "source": [
    "%whos"
   ]
  },
  {
   "cell_type": "markdown",
   "id": "d4d798bb-f8d5-49ed-a03b-9b32e29e52db",
   "metadata": {},
   "source": [
    "Print variables as a list:"
   ]
  },
  {
   "cell_type": "code",
   "execution_count": null,
   "id": "dd8aafd1-015c-4ac4-86e4-f603b30dea0f",
   "metadata": {},
   "outputs": [],
   "source": [
    "%who_ls"
   ]
  },
  {
   "cell_type": "markdown",
   "id": "7f0567e6-71e2-4e26-b16c-395b6a74602a",
   "metadata": {},
   "source": [
    "Reset your workspace, and delete every variable. USE THIS WITH CAUTION!"
   ]
  },
  {
   "cell_type": "code",
   "execution_count": null,
   "id": "6bae9bed-ccd4-482b-aa92-f52edeed5d4f",
   "metadata": {},
   "outputs": [],
   "source": [
    "%reset"
   ]
  },
  {
   "cell_type": "code",
   "execution_count": null,
   "id": "dcaeab7f-67d6-437d-922d-a82754ec1e1c",
   "metadata": {},
   "outputs": [],
   "source": [
    "%who"
   ]
  },
  {
   "cell_type": "markdown",
   "id": "74e0c005-52fe-452a-ae84-38a3f8183ffa",
   "metadata": {},
   "source": [
    "Measure the time it takes to run a line of code:"
   ]
  },
  {
   "cell_type": "code",
   "execution_count": null,
   "id": "4bf8f1e9-d0a0-43d5-87b9-5dd2290c88f1",
   "metadata": {},
   "outputs": [],
   "source": [
    "%time sum(range(100000))"
   ]
  },
  {
   "cell_type": "markdown",
   "id": "b0206295-f6f1-4a63-88c6-55de24b31520",
   "metadata": {},
   "source": [
    "## IPython Display"
   ]
  },
  {
   "cell_type": "markdown",
   "id": "465c07b7-42fc-49d4-a424-f7ad535525b0",
   "metadata": {},
   "source": [
    "Sometimes it's nice to display other types of media in a Notebook. \n",
    "IPython display is a great tool for showing all types of media or data,\n",
    "even those that can't be displayed with Markdown."
   ]
  },
  {
   "cell_type": "code",
   "execution_count": null,
   "id": "056f06f4-6d7a-4059-8afa-fe4229e67ded",
   "metadata": {},
   "outputs": [],
   "source": [
    "from IPython import display"
   ]
  },
  {
   "cell_type": "markdown",
   "id": "c6d78165-829f-4508-872b-c7cd68b12068",
   "metadata": {},
   "source": [
    "#### JSON data"
   ]
  },
  {
   "cell_type": "markdown",
   "id": "2946a626-c53e-4cbc-aefd-55c229424433",
   "metadata": {},
   "source": [
    "Here's how to display a JSON string. This makes it much easier to navigate: "
   ]
  },
  {
   "cell_type": "code",
   "execution_count": null,
   "id": "4e200b40-d2e5-4e31-99bb-7333994da954",
   "metadata": {},
   "outputs": [],
   "source": [
    "json_dict = {\n",
    "  \"name\": \"John Smith\",\n",
    "  \"age\": 35,\n",
    "  \"isStudent\": False,\n",
    "  \"address\": {\n",
    "    \"street\": \"123 Main St\",\n",
    "    \"city\": \"Anytown\",\n",
    "    \"state\": \"AA\",\n",
    "    \"zip\": \"12345\"\n",
    "  },\n",
    "  \"phoneNumbers\": [\n",
    "    {\n",
    "      \"type\": \"home\",\n",
    "      \"number\": \"555-555-5555\"\n",
    "    },\n",
    "    {\n",
    "      \"type\": \"work\",\n",
    "      \"number\": \"555-555-5555\"\n",
    "    }\n",
    "  ],\n",
    "  \"email\": \"john.smith@email.com\"\n",
    "}"
   ]
  },
  {
   "cell_type": "code",
   "execution_count": null,
   "id": "ea10906c-49f8-4781-8cab-26a814374eea",
   "metadata": {},
   "outputs": [],
   "source": [
    "display.JSON(data = json_dict)"
   ]
  },
  {
   "cell_type": "markdown",
   "id": "3e217173-fc30-456b-81cf-1344a692aaf6",
   "metadata": {},
   "source": [
    "Alternatively, you can always save this string to a JSON file and view it in the Jupyter Lab window:"
   ]
  },
  {
   "cell_type": "code",
   "execution_count": null,
   "id": "c517d275-b57a-4347-9fb9-e9c7b16e46f8",
   "metadata": {},
   "outputs": [],
   "source": [
    "import json\n",
    "\n",
    "with open('data.json', 'w') as f:\n",
    "    json.dump(json_dict, f)"
   ]
  },
  {
   "cell_type": "markdown",
   "id": "0f73eaf0-4ca4-4f2d-9c37-b0a7f43563ee",
   "metadata": {},
   "source": [
    "#### Web Pages"
   ]
  },
  {
   "cell_type": "markdown",
   "id": "13d5d9b6-d09c-4ad7-94cd-b735252eb9a3",
   "metadata": {},
   "source": [
    "Here's how to embed a webpage inside your notebook:"
   ]
  },
  {
   "cell_type": "code",
   "execution_count": null,
   "id": "a162a717-339c-46bd-a54c-2b4d967f7737",
   "metadata": {},
   "outputs": [],
   "source": [
    "url = 'https://cmu-lib.github.io/portfolio_workshop/Python_Series_Materials/part_2/part_2.html'\n",
    "\n",
    "display.IFrame(src = url, width=800, height=400)"
   ]
  },
  {
   "cell_type": "markdown",
   "id": "80b2e11a-97b5-46c4-a91b-87147909f842",
   "metadata": {},
   "source": [
    "#### Images"
   ]
  },
  {
   "cell_type": "markdown",
   "id": "b1e2d48a-1009-42b3-b784-1d854b9ac2aa",
   "metadata": {},
   "source": [
    "Here are a couple examples of how to display an image from your working directory or using a URL:"
   ]
  },
  {
   "cell_type": "code",
   "execution_count": null,
   "id": "5a27c24a-69c5-45fd-887f-ac80bcd97312",
   "metadata": {},
   "outputs": [],
   "source": [
    "display.Image('../fig/Jupyter_logo.png')"
   ]
  },
  {
   "cell_type": "code",
   "execution_count": null,
   "id": "088bdb46-290d-4e1a-8cc7-18f17d963118",
   "metadata": {
    "tags": []
   },
   "outputs": [],
   "source": [
    "display.Image('https://scikit-learn.org/stable/_static/ml_map.png', width=800, height=400)"
   ]
  },
  {
   "cell_type": "markdown",
   "id": "681e2556-9056-4667-9c64-cfb60a1c8c4f",
   "metadata": {},
   "source": [
    "You can also do this with Markdown:"
   ]
  },
  {
   "cell_type": "markdown",
   "id": "e70a3220-7ee3-4f0c-8618-ad81a5471d60",
   "metadata": {},
   "source": [
    "![Jupyter](../fig/Jupyter_logo.png)"
   ]
  },
  {
   "cell_type": "markdown",
   "id": "e755d302-88ca-4ae1-b9c6-4582150dab9f",
   "metadata": {},
   "source": [
    "![Algorithm](https://scikit-learn.org/stable/_static/ml_map.png)"
   ]
  },
  {
   "cell_type": "markdown",
   "id": "68ef23bb-61d7-460c-aea8-87fefcea237d",
   "metadata": {},
   "source": [
    "If you want to adjust the size, HTML is your best option:"
   ]
  },
  {
   "cell_type": "markdown",
   "id": "96ddeeea-18dd-4b47-a2e0-13e16bfdc919",
   "metadata": {},
   "source": [
    "<img src=\"https://scikit-learn.org/stable/_static/ml_map.png\" alt=\"Algorithm\" width=\"800\"/>"
   ]
  },
  {
   "cell_type": "markdown",
   "id": "c5b40d20-7ba0-453d-976e-0170cc0fe6dd",
   "metadata": {},
   "source": [
    "#### Displaying YouTube Videos"
   ]
  },
  {
   "cell_type": "markdown",
   "id": "6926be99-3207-4f1f-b754-74046108c663",
   "metadata": {},
   "source": [
    "It's very simple to display a YouTube video in a Notebook. \n",
    "You just have to find the URL and copy the code that comes\n",
    "after `v=`"
   ]
  },
  {
   "cell_type": "code",
   "execution_count": null,
   "id": "11fbdcdd-82df-43ca-a48f-0de23aef6fd2",
   "metadata": {},
   "outputs": [],
   "source": [
    "#https://www.youtube.com/watch?v=jZ952vChhuI\n",
    "display.YouTubeVideo('jZ952vChhuI')"
   ]
  },
  {
   "cell_type": "markdown",
   "id": "3d4baa04-13a7-4bf1-8aaf-63f7badecd38",
   "metadata": {},
   "source": [
    "While not as straight forward, you can embed a video with a nice combination of\n",
    "magic commands and HTML!"
   ]
  },
  {
   "cell_type": "code",
   "execution_count": null,
   "id": "fb1be52b-a377-40db-b70b-1a9190bb3363",
   "metadata": {},
   "outputs": [],
   "source": [
    "%%html \n",
    "<iframe width=\"560\" height=\"315\" src=\"https://www.youtube.com/embed/jZ952vChhuI\"></iframe>"
   ]
  },
  {
   "cell_type": "markdown",
   "id": "f43d5756-ee5e-4abd-92be-52beda2668ac",
   "metadata": {
    "tags": []
   },
   "source": [
    "# Interactive Plots (Plotly)"
   ]
  },
  {
   "cell_type": "code",
   "execution_count": null,
   "id": "24dfbfd1-5543-4b1b-be75-c4b2992aab0a",
   "metadata": {
    "tags": []
   },
   "outputs": [],
   "source": [
    "# Import libraries  \n",
    "import pandas as pd\n",
    "import numpy as np\n",
    "\n",
    "\n",
    "#Import plotly\n",
    "from plotly.offline import init_notebook_mode, iplot\n",
    "init_notebook_mode(connected=True)\n",
    "import plotly.graph_objects as go\n",
    "import plotly.express as px\n",
    "\n"
   ]
  },
  {
   "cell_type": "code",
   "execution_count": null,
   "id": "6a95881b-45a3-4d76-b714-7c0de0525771",
   "metadata": {},
   "outputs": [],
   "source": [
    "# Import gapminder data \n",
    "df = px.data.gapminder()\n",
    "\n",
    "df = px.data.gapminder().query(\"country=='Canada'\")\n",
    "fig = px.line(df, x=\"year\", y=\"lifeExp\", title='Life expectancy in Canada')\n",
    "fig.show()"
   ]
  },
  {
   "cell_type": "code",
   "execution_count": null,
   "id": "01fe61ad-46ba-4aeb-9159-23a2e37e7752",
   "metadata": {},
   "outputs": [],
   "source": [
    "# import data again\n",
    "df = px.data.gapminder()\n",
    "\n",
    "# Create a scatterplot named \"fig\" and use variables of the dataset to populate the different fields/arguments\n",
    "fig1 = px.scatter(df, x=\"gdpPercap\", y=\"lifeExp\", animation_frame=\"year\", animation_group=\"country\",\n",
    "           size=\"pop\", color=\"continent\", hover_name=\"country\", facet_col=\"continent\",\n",
    "           log_x=True, size_max=45, range_x=[100,100000], range_y=[25,90])\n",
    "fig1.show()"
   ]
  },
  {
   "cell_type": "markdown",
   "id": "2d12f9b3-ac2c-43f7-bc0c-589c8870cff2",
   "metadata": {
    "tags": []
   },
   "source": [
    "### Moving Notebook to the Web"
   ]
  },
  {
   "cell_type": "markdown",
   "id": "12de185a-955a-4d70-a312-e384a346e5ae",
   "metadata": {
    "tags": []
   },
   "source": [
    "Once you have your notebook in order you can move your notebook to the web using [NBViewer](https://nbviewer.org)! \n",
    "\n",
    "So how do you do that? Follow these steps: \n",
    "1. First you have to save your notebook (`.ipynb` file) \n",
    "2. Add your notebook file on GitHub or GitLab or somewhere where your notebook has a URL \n",
    "3. Go to [NBViewer](https://nbviewer.org)\n",
    "4. Enter the URL into NBViewer\n",
    "5. Click go and you're set!"
   ]
  },
  {
   "cell_type": "markdown",
   "id": "72af3854-be10-489d-840e-837ce7036526",
   "metadata": {
    "tags": []
   },
   "source": [
    "Saving a notebook to GitHub:\n",
    "\n",
    "1. Go to GitHub and create a repository\n",
    "2. Select to create a `.readme` and select <kbd>gitignore</kbd> for Python \n",
    "3. Go to your repository in GitHub and click <kbd>code</kbd>\n",
    "4. Copy the code\n",
    "5. Open a terminal or command line window\n",
    "6. You can create a new directory by: \n",
    "\n",
    "~~~ bash \n",
    "mkdir [directory name] \n",
    "~~~\n",
    "Or go to a directory you typically store your projects\n",
    "\n",
    "7. Type in: \n",
    "~~~ bash \n",
    "git clone [copied code] \n",
    "~~~\n",
    "\n",
    "\n",
    "8. You should see your repository in you the directory by typing: \n",
    "~~~ bash \n",
    "ls [directory name]\n",
    "~~~\n",
    "\n",
    "\n",
    "9. Launch jupyter lab by typing:\n",
    "\n",
    "~~~ bash \n",
    "jupyter lab\n",
    "~~~\n",
    "\n",
    "10. Create your notebooks!\n",
    "\n",
    "\n",
    "\n",
    "##### When you are ready you can commit your notebook to GitHub by typing into terminal: \n",
    "\n",
    "~~~ bash \n",
    "git status\n",
    "~~~\n",
    "\n",
    "~~~ bash \n",
    "git add .\n",
    "~~~\n",
    "\n",
    "~~~ bash \n",
    "git commit -m \"add a description\"\n",
    "~~~\n",
    "\n",
    "~~~ bash \n",
    "git push\n",
    "~~~"
   ]
  },
  {
   "cell_type": "markdown",
   "id": "a5ab1c4e-cee5-48ba-a4d3-2eaac1bec914",
   "metadata": {
    "tags": []
   },
   "source": [
    "### Saving Figures and Data"
   ]
  },
  {
   "cell_type": "markdown",
   "id": "6b8ee27f-0abe-44f7-87fa-ea4bffd764e1",
   "metadata": {},
   "source": [
    "To save an interactive plotly output as an `.html` you can type: \n",
    "\n",
    "~~~ python \n",
    "fig.write_html(\"./file.html\", include_plotlyjs= \"True\")\n",
    "~~~\n",
    "\n",
    "\n",
    "Best practice is to save files to a **relative path** instead of an absolute path. The second part of the command `include_plotlyjs= \"True\"` specifies how the `plotly.js` library is included/loaded. There are other function `write_html` [parameters](https://plotly.com/python/interactive-html-export/)(which can be found toward the bottom of the page!)\n",
    "\n",
    "Let's try it out!"
   ]
  },
  {
   "cell_type": "code",
   "execution_count": null,
   "id": "0e4fcf09-ca12-441c-a530-6670c1bfbb3d",
   "metadata": {},
   "outputs": [],
   "source": [
    "# Save the first plotly figure (\"fig\") as an .html in our current working directory (the directory you are in)\n",
    "fig1.write_html(\"./file.html\", include_plotlyjs= \"True\")"
   ]
  },
  {
   "cell_type": "markdown",
   "id": "75429773-2cc4-437e-836b-2d84ae41fae5",
   "metadata": {},
   "source": [
    "A common library to process and clean data is by using pandas. To save datasets as `.xlxs` or `.csv` files you've cleaned you can type: \n",
    "\n",
    "~~~ python \n",
    "dataframename.to_csv('filepath/filename.csv', index=False)\n",
    "~~~\n",
    "\n",
    "You can save datasets as different file types usually by changing the `.to_csv` to `.to_excel` or `.to_json`...you get the idea! You can find additional filetypes and parameters in [pandas documentation]( https://pandas.pydata.org/docs/reference/api/pandas.DataFrame.to_csv.html).\n"
   ]
  },
  {
   "cell_type": "markdown",
   "id": "6ad085d6-3d17-47dd-bb2b-93142526ae1b",
   "metadata": {
    "tags": []
   },
   "source": [
    "### Using NBconvert"
   ]
  },
  {
   "cell_type": "markdown",
   "id": "7e3a2f14-a5ae-401c-871d-815822d7fd53",
   "metadata": {
    "tags": []
   },
   "source": [
    "An alternative way you can save and convert a `.ipynb` to another format is to use jupyter notebooks `nbconvert` to change `.ipynb` to `.html` files. The `.html` can then be put onto GitHub or GitLab. \n",
    "\n",
    "Let's try:\n",
    "1. Toggle over to your command line \n",
    "2. Go to the directory where your note book is at\n",
    "3. In the command line or terminal type \n",
    "\n",
    "~~~ bash \n",
    "jupyter nbconvert --output-dir='./docs' --to html *.ipynb \n",
    "~~~\n",
    "\n",
    "4. This will create a docs folder that contains `.html` files of your `.ipynb` in your directory. \n",
    "5. You can then put these files on GitHub for example and display them as webpages\n"
   ]
  },
  {
   "cell_type": "code",
   "execution_count": null,
   "id": "1e2702f2-4ffe-4baa-a075-362138fc3dce",
   "metadata": {},
   "outputs": [],
   "source": []
  }
 ],
 "metadata": {
  "kernelspec": {
   "display_name": "Python 3 (ipykernel)",
   "language": "python",
   "name": "python3"
  },
  "language_info": {
   "codemirror_mode": {
    "name": "ipython",
    "version": 3
   },
   "file_extension": ".py",
   "mimetype": "text/x-python",
   "name": "python",
   "nbconvert_exporter": "python",
   "pygments_lexer": "ipython3",
   "version": "3.9.12"
  }
 },
 "nbformat": 4,
 "nbformat_minor": 5
}
